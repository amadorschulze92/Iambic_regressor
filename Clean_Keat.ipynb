{
 "cells": [
  {
   "cell_type": "code",
   "execution_count": 1,
   "metadata": {
    "collapsed": true
   },
   "outputs": [],
   "source": [
    "import string\n",
    "import numpy as np\n",
    "import pandas as pd"
   ]
  },
  {
   "cell_type": "code",
   "execution_count": 34,
   "metadata": {
    "collapsed": false
   },
   "outputs": [
    {
     "name": "stderr",
     "output_type": "stream",
     "text": [
      "/anaconda/lib/python2.7/site-packages/ipykernel/__main__.py:1: ParserWarning: Falling back to the 'python' engine because the 'c' engine does not support regex separators (separators > 1 char and different from '\\s+' are interpreted as regex); you can avoid this warning by specifying engine='python'.\n",
      "  if __name__ == '__main__':\n"
     ]
    },
    {
     "data": {
      "text/html": [
       "<div>\n",
       "<table border=\"1\" class=\"dataframe\">\n",
       "  <thead>\n",
       "    <tr style=\"text-align: right;\">\n",
       "      <th></th>\n",
       "      <th>index\ttext\tauthor</th>\n",
       "    </tr>\n",
       "  </thead>\n",
       "  <tbody>\n",
       "    <tr>\n",
       "      <th>0</th>\n",
       "      <td>0\\t&lt;h4&gt;&lt;/h4&gt;\\tkeat</td>\n",
       "    </tr>\n",
       "    <tr>\n",
       "      <th>1</th>\n",
       "      <td>1\\t\"&lt;h4&gt;Bright star! would I were steadfast as...</td>\n",
       "    </tr>\n",
       "  </tbody>\n",
       "</table>\n",
       "</div>"
      ],
      "text/plain": [
       "                                 index\\ttext\\tauthor\n",
       "0                                 0\\t<h4></h4>\\tkeat\n",
       "1  1\\t\"<h4>Bright star! would I were steadfast as..."
      ]
     },
     "execution_count": 34,
     "metadata": {},
     "output_type": "execute_result"
    }
   ],
   "source": [
    "keat_sonnets = pd.read_csv('../../../Envs/ScrapeProj/sonnet_spider/keat_sonnets.csv', delimiter='tabs')\n",
    "keat_sonnets.head(2)"
   ]
  },
  {
   "cell_type": "code",
   "execution_count": 35,
   "metadata": {
    "collapsed": false
   },
   "outputs": [
    {
     "data": {
      "text/plain": [
       "Index([u'index\\ttext\\tauthor'], dtype='object')"
      ]
     },
     "execution_count": 35,
     "metadata": {},
     "output_type": "execute_result"
    }
   ],
   "source": [
    "keat_sonnets.columns"
   ]
  },
  {
   "cell_type": "code",
   "execution_count": 36,
   "metadata": {
    "collapsed": false
   },
   "outputs": [
    {
     "data": {
      "text/html": [
       "<div>\n",
       "<table border=\"1\" class=\"dataframe\">\n",
       "  <thead>\n",
       "    <tr style=\"text-align: right;\">\n",
       "      <th></th>\n",
       "      <th>index\ttext\tauthor</th>\n",
       "      <th>text</th>\n",
       "    </tr>\n",
       "  </thead>\n",
       "  <tbody>\n",
       "    <tr>\n",
       "      <th>0</th>\n",
       "      <td>0\\t&lt;h4&gt;&lt;/h4&gt;\\tkeat</td>\n",
       "      <td></td>\n",
       "    </tr>\n",
       "    <tr>\n",
       "      <th>1</th>\n",
       "      <td>1\\t\"&lt;h4&gt;Bright star! would I were steadfast as...</td>\n",
       "      <td>Bright star! would I were steadfast as thou art</td>\n",
       "    </tr>\n",
       "  </tbody>\n",
       "</table>\n",
       "</div>"
      ],
      "text/plain": [
       "                                 index\\ttext\\tauthor  \\\n",
       "0                                 0\\t<h4></h4>\\tkeat   \n",
       "1  1\\t\"<h4>Bright star! would I were steadfast as...   \n",
       "\n",
       "                                              text  \n",
       "0                                                   \n",
       "1  Bright star! would I were steadfast as thou art  "
      ]
     },
     "execution_count": 36,
     "metadata": {},
     "output_type": "execute_result"
    }
   ],
   "source": [
    "keat_sonnets['text'] = keat_sonnets['index\\ttext\\tauthor'].map(lambda x: x.replace('<h4>',''))\n",
    "keat_sonnets['text'] = keat_sonnets['text'].map(lambda x: x.replace('</h4>',''))\n",
    "keat_sonnets['text'] = keat_sonnets['text'].map(lambda x: x.replace('1',''))\n",
    "keat_sonnets['text'] = keat_sonnets['text'].map(lambda x: x.replace('0',''))\n",
    "keat_sonnets['text'] = keat_sonnets['text'].map(lambda x: x.replace('keat',''))\n",
    "keat_sonnets['text'] = keat_sonnets['text'].map(lambda x: x.replace('\\t',''))\n",
    "keat_sonnets['text'] = keat_sonnets['text'].map(lambda x: x.replace('\"',''))\n",
    "keat_sonnets['text'] = keat_sonnets['text'].map(lambda x: x.replace('\\xe2\\x80\\x94',''))\n",
    "keat_sonnets['text'] = keat_sonnets['text'].map(lambda x: x.replace('<br>',''))\n",
    "keat_sonnets.head(2)"
   ]
  },
  {
   "cell_type": "code",
   "execution_count": 38,
   "metadata": {
    "collapsed": false
   },
   "outputs": [
    {
     "data": {
      "text/html": [
       "<div>\n",
       "<table border=\"1\" class=\"dataframe\">\n",
       "  <thead>\n",
       "    <tr style=\"text-align: right;\">\n",
       "      <th></th>\n",
       "      <th>text</th>\n",
       "    </tr>\n",
       "  </thead>\n",
       "  <tbody>\n",
       "    <tr>\n",
       "      <th>0</th>\n",
       "      <td></td>\n",
       "    </tr>\n",
       "    <tr>\n",
       "      <th>1</th>\n",
       "      <td>Bright star! would I were steadfast as thou art</td>\n",
       "    </tr>\n",
       "    <tr>\n",
       "      <th>2</th>\n",
       "      <td>Not in lone splendour hung aloft the night,</td>\n",
       "    </tr>\n",
       "    <tr>\n",
       "      <th>3</th>\n",
       "      <td>And watching, with eternal lids apart,</td>\n",
       "    </tr>\n",
       "    <tr>\n",
       "      <th>4</th>\n",
       "      <td>Like Nature’s patient sleepless Eremite,</td>\n",
       "    </tr>\n",
       "  </tbody>\n",
       "</table>\n",
       "</div>"
      ],
      "text/plain": [
       "                                              text\n",
       "0                                                 \n",
       "1  Bright star! would I were steadfast as thou art\n",
       "2      Not in lone splendour hung aloft the night,\n",
       "3           And watching, with eternal lids apart,\n",
       "4         Like Nature’s patient sleepless Eremite,"
      ]
     },
     "execution_count": 38,
     "metadata": {},
     "output_type": "execute_result"
    }
   ],
   "source": [
    "# keat_sonnets = keat_sonnets.drop('index\\ttext\\tauthor', axis=1)\n",
    "keat_sonnets.head()"
   ]
  },
  {
   "cell_type": "code",
   "execution_count": 40,
   "metadata": {
    "collapsed": false
   },
   "outputs": [
    {
     "data": {
      "text/plain": [
       "'Bright star! would I were steadfast as thou art'"
      ]
     },
     "execution_count": 40,
     "metadata": {},
     "output_type": "execute_result"
    }
   ],
   "source": [
    "keat_sonnets['text'][1]"
   ]
  },
  {
   "cell_type": "code",
   "execution_count": 44,
   "metadata": {
    "collapsed": false
   },
   "outputs": [],
   "source": [
    "keat_sonnets.to_csv('clean_keat_sonnets.csv')"
   ]
  },
  {
   "cell_type": "code",
   "execution_count": null,
   "metadata": {
    "collapsed": true
   },
   "outputs": [],
   "source": []
  }
 ],
 "metadata": {
  "kernelspec": {
   "display_name": "Python 2",
   "language": "python",
   "name": "python2"
  },
  "language_info": {
   "codemirror_mode": {
    "name": "ipython",
    "version": 2
   },
   "file_extension": ".py",
   "mimetype": "text/x-python",
   "name": "python",
   "nbconvert_exporter": "python",
   "pygments_lexer": "ipython2",
   "version": "2.7.11"
  }
 },
 "nbformat": 4,
 "nbformat_minor": 0
}
