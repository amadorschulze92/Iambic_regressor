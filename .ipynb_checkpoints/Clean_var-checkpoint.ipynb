{
 "cells": [
  {
   "cell_type": "code",
   "execution_count": 1,
   "metadata": {
    "collapsed": true
   },
   "outputs": [],
   "source": [
    "import string\n",
    "import numpy as np\n",
    "import pandas as pd"
   ]
  },
  {
   "cell_type": "code",
   "execution_count": 58,
   "metadata": {
    "collapsed": false
   },
   "outputs": [
    {
     "data": {
      "text/html": [
       "<div>\n",
       "<table border=\"1\" class=\"dataframe\">\n",
       "  <thead>\n",
       "    <tr style=\"text-align: right;\">\n",
       "      <th></th>\n",
       "      <th>index</th>\n",
       "      <th>text</th>\n",
       "      <th>author</th>\n",
       "    </tr>\n",
       "  </thead>\n",
       "  <tbody>\n",
       "    <tr>\n",
       "      <th>0</th>\n",
       "      <td>6</td>\n",
       "      <td>&lt;div style=\"padding-left:14px;padding-top:20px...</td>\n",
       "      <td>[&lt;Selector xpath='//head/meta/@content' data=u...</td>\n",
       "    </tr>\n",
       "    <tr>\n",
       "      <th>1</th>\n",
       "      <td>6</td>\n",
       "      <td>&lt;div style=\"padding-left:14px;padding-top:20px...</td>\n",
       "      <td>[&lt;Selector xpath='//head/meta/@content' data=u...</td>\n",
       "    </tr>\n",
       "    <tr>\n",
       "      <th>2</th>\n",
       "      <td>6</td>\n",
       "      <td>&lt;div style=\"padding-left:14px;padding-top:20px...</td>\n",
       "      <td>[&lt;Selector xpath='//head/meta/@content' data=u...</td>\n",
       "    </tr>\n",
       "    <tr>\n",
       "      <th>3</th>\n",
       "      <td>6</td>\n",
       "      <td>&lt;div style=\"padding-left:14px;padding-top:20px...</td>\n",
       "      <td>[&lt;Selector xpath='//head/meta/@content' data=u...</td>\n",
       "    </tr>\n",
       "    <tr>\n",
       "      <th>4</th>\n",
       "      <td>6</td>\n",
       "      <td>&lt;div style=\"padding-left:14px;padding-top:20px...</td>\n",
       "      <td>[&lt;Selector xpath='//head/meta/@content' data=u...</td>\n",
       "    </tr>\n",
       "  </tbody>\n",
       "</table>\n",
       "</div>"
      ],
      "text/plain": [
       "   index                                               text  \\\n",
       "0      6  <div style=\"padding-left:14px;padding-top:20px...   \n",
       "1      6  <div style=\"padding-left:14px;padding-top:20px...   \n",
       "2      6  <div style=\"padding-left:14px;padding-top:20px...   \n",
       "3      6  <div style=\"padding-left:14px;padding-top:20px...   \n",
       "4      6  <div style=\"padding-left:14px;padding-top:20px...   \n",
       "\n",
       "                                              author  \n",
       "0  [<Selector xpath='//head/meta/@content' data=u...  \n",
       "1  [<Selector xpath='//head/meta/@content' data=u...  \n",
       "2  [<Selector xpath='//head/meta/@content' data=u...  \n",
       "3  [<Selector xpath='//head/meta/@content' data=u...  \n",
       "4  [<Selector xpath='//head/meta/@content' data=u...  "
      ]
     },
     "execution_count": 58,
     "metadata": {},
     "output_type": "execute_result"
    }
   ],
   "source": [
    "var_sonnets = pd.read_csv('../../../Envs/ScrapeProj/sonnet_spider/var_sonnets.csv', delimiter=',')\n",
    "var_sonnets.head()"
   ]
  },
  {
   "cell_type": "code",
   "execution_count": 59,
   "metadata": {
    "collapsed": false
   },
   "outputs": [
    {
     "data": {
      "text/html": [
       "<div>\n",
       "<table border=\"1\" class=\"dataframe\">\n",
       "  <thead>\n",
       "    <tr style=\"text-align: right;\">\n",
       "      <th></th>\n",
       "      <th>index</th>\n",
       "      <th>text</th>\n",
       "      <th>author</th>\n",
       "    </tr>\n",
       "  </thead>\n",
       "  <tbody>\n",
       "    <tr>\n",
       "      <th>0</th>\n",
       "      <td>6</td>\n",
       "      <td>Some flowers are withered and some joys have d...</td>\n",
       "      <td>[A Calendar of Sonnets: July by Helen Hun&gt;, He...</td>\n",
       "    </tr>\n",
       "    <tr>\n",
       "      <th>1</th>\n",
       "      <td>6</td>\n",
       "      <td>O Month when they who love must love and wed! ...</td>\n",
       "      <td>[A Calendar of Sonnets: May by Helen Hunt&gt;, He...</td>\n",
       "    </tr>\n",
       "    <tr>\n",
       "      <th>2</th>\n",
       "      <td>6</td>\n",
       "      <td>O Winter! frozen pulse and heart of fire, &lt;br&gt;...</td>\n",
       "      <td>[A Calendar of Sonnets: January by Helen &gt;, He...</td>\n",
       "    </tr>\n",
       "    <tr>\n",
       "      <th>3</th>\n",
       "      <td>6</td>\n",
       "      <td>This is the treacherous month when autumn days...</td>\n",
       "      <td>[A Calendar of Sonnets: November by Helen&gt;, He...</td>\n",
       "    </tr>\n",
       "    <tr>\n",
       "      <th>4</th>\n",
       "      <td>6</td>\n",
       "      <td>Hand trembling towards hand; the amazing light...</td>\n",
       "      <td>[Sonnet Reversed by Rupert Brooke - Hand &gt;, Ru...</td>\n",
       "    </tr>\n",
       "  </tbody>\n",
       "</table>\n",
       "</div>"
      ],
      "text/plain": [
       "   index                                               text  \\\n",
       "0      6  Some flowers are withered and some joys have d...   \n",
       "1      6  O Month when they who love must love and wed! ...   \n",
       "2      6  O Winter! frozen pulse and heart of fire, <br>...   \n",
       "3      6  This is the treacherous month when autumn days...   \n",
       "4      6  Hand trembling towards hand; the amazing light...   \n",
       "\n",
       "                                              author  \n",
       "0  [A Calendar of Sonnets: July by Helen Hun>, He...  \n",
       "1  [A Calendar of Sonnets: May by Helen Hunt>, He...  \n",
       "2  [A Calendar of Sonnets: January by Helen >, He...  \n",
       "3  [A Calendar of Sonnets: November by Helen>, He...  \n",
       "4  [Sonnet Reversed by Rupert Brooke - Hand >, Ru...  "
      ]
     },
     "execution_count": 59,
     "metadata": {},
     "output_type": "execute_result"
    }
   ],
   "source": [
    "var_sonnets = pd.DataFrame(var_sonnets)\n",
    "var_sonnets['text'] = var_sonnets['text'].map(lambda x: x.replace('<div style=\"padding-left:14px;padding-top:',''))\n",
    "var_sonnets['author'] = var_sonnets['author'].map(lambda x: x.replace(\"<Selector xpath='//head/meta/@content' \",''))\n",
    "\n",
    "var_sonnets['text'] = var_sonnets['text'].map(lambda x: x.replace('20px;font-family:Arial;font-size:13px;\">',''))\n",
    "var_sonnets['author'] = var_sonnets['author'].map(lambda x: x.replace(\"data=\",''))\n",
    "\n",
    "var_sonnets['text'] = var_sonnets['text'].map(lambda x: x.replace('\\n\\t\\t\\t\\t\\t\\t',''))\n",
    "var_sonnets['author'] = var_sonnets['author'].map(lambda x: x.replace(\"u'text/html; charset=utf-8'>]\",''))\n",
    "\n",
    "var_sonnets['text'] = var_sonnets['text'].map(lambda x: x.replace('\\t\\t\\t\\t\\t\\t</div>',''))\n",
    "var_sonnets['author'] = var_sonnets['author'].map(lambda x: x.replace(\"u'\",''))\n",
    "var_sonnets['author'] = var_sonnets['author'].map(lambda x: x.replace(\"'\",''))\n",
    "\n",
    "var_sonnets.head()"
   ]
  },
  {
   "cell_type": "code",
   "execution_count": 60,
   "metadata": {
    "collapsed": false
   },
   "outputs": [
    {
     "data": {
      "text/html": [
       "<div>\n",
       "<table border=\"1\" class=\"dataframe\">\n",
       "  <thead>\n",
       "    <tr style=\"text-align: right;\">\n",
       "      <th></th>\n",
       "      <th>text</th>\n",
       "      <th>clean_author</th>\n",
       "    </tr>\n",
       "  </thead>\n",
       "  <tbody>\n",
       "    <tr>\n",
       "      <th>0</th>\n",
       "      <td>Some flowers are withered and some joys have d...</td>\n",
       "      <td>Helen Hunt Jackson</td>\n",
       "    </tr>\n",
       "    <tr>\n",
       "      <th>1</th>\n",
       "      <td>O Month when they who love must love and wed! ...</td>\n",
       "      <td>Helen Hunt Jackson</td>\n",
       "    </tr>\n",
       "    <tr>\n",
       "      <th>2</th>\n",
       "      <td>O Winter! frozen pulse and heart of fire, &lt;br&gt;...</td>\n",
       "      <td>Helen Hunt Jackson</td>\n",
       "    </tr>\n",
       "    <tr>\n",
       "      <th>3</th>\n",
       "      <td>This is the treacherous month when autumn days...</td>\n",
       "      <td>Helen Hunt Jackson</td>\n",
       "    </tr>\n",
       "    <tr>\n",
       "      <th>4</th>\n",
       "      <td>Hand trembling towards hand; the amazing light...</td>\n",
       "      <td>Rupert Brooke    Ruper</td>\n",
       "    </tr>\n",
       "  </tbody>\n",
       "</table>\n",
       "</div>"
      ],
      "text/plain": [
       "                                                text             clean_author\n",
       "0  Some flowers are withered and some joys have d...   Helen Hunt Jackson    \n",
       "1  O Month when they who love must love and wed! ...   Helen Hunt Jackson    \n",
       "2  O Winter! frozen pulse and heart of fire, <br>...   Helen Hunt Jackson    \n",
       "3  This is the treacherous month when autumn days...   Helen Hunt Jackson    \n",
       "4  Hand trembling towards hand; the amazing light...   Rupert Brooke    Ruper"
      ]
     },
     "execution_count": 60,
     "metadata": {},
     "output_type": "execute_result"
    }
   ],
   "source": [
    "clean_author = []\n",
    "for x in var_sonnets['author']:\n",
    "    listed = x.split('>,')\n",
    "    messy_author = listed[1]\n",
    "    messy_author = messy_author.replace('poems,','')\n",
    "    messy_author = messy_author.replace('poem,','')\n",
    "    messy_author = messy_author.replace('poetry,','')\n",
    "    clean_author.append(messy_author)\n",
    "\n",
    "var_sonnets['clean_author'] = clean_author\n",
    "var_sonnets = var_sonnets.drop('author', axis=1)\n",
    "var_sonnets = var_sonnets.drop('index', axis=1)\n",
    "\n",
    "var_sonnets.head()"
   ]
  },
  {
   "cell_type": "code",
   "execution_count": 61,
   "metadata": {
    "collapsed": true
   },
   "outputs": [],
   "source": [
    "sonnet_line = []\n",
    "line_author = []\n",
    "\n",
    "for n,x in enumerate(var_sonnets['text']):\n",
    "    lines = x.split('<br>')\n",
    "    for line in lines:\n",
    "        sonnet_line.append(line)\n",
    "        line_author.append(var_sonnets['clean_author'][n])\n",
    "        \n",
    "various_sonnets = pd.DataFrame({'text': sonnet_line,\n",
    "                               'author': line_author})"
   ]
  },
  {
   "cell_type": "code",
   "execution_count": 62,
   "metadata": {
    "collapsed": false
   },
   "outputs": [
    {
     "data": {
      "text/html": [
       "<div>\n",
       "<table border=\"1\" class=\"dataframe\">\n",
       "  <thead>\n",
       "    <tr style=\"text-align: right;\">\n",
       "      <th></th>\n",
       "      <th>author</th>\n",
       "      <th>text</th>\n",
       "    </tr>\n",
       "  </thead>\n",
       "  <tbody>\n",
       "    <tr>\n",
       "      <th>0</th>\n",
       "      <td>Helen Hunt Jackson</td>\n",
       "      <td>Some flowers are withered and some joys have d...</td>\n",
       "    </tr>\n",
       "    <tr>\n",
       "      <th>1</th>\n",
       "      <td>Helen Hunt Jackson</td>\n",
       "      <td>The garden reeks with an East Indian scent</td>\n",
       "    </tr>\n",
       "    <tr>\n",
       "      <th>2</th>\n",
       "      <td>Helen Hunt Jackson</td>\n",
       "      <td>From beds where gillyflowers stand weak and sp...</td>\n",
       "    </tr>\n",
       "    <tr>\n",
       "      <th>3</th>\n",
       "      <td>Helen Hunt Jackson</td>\n",
       "      <td>The white heat pales the skies from side to si...</td>\n",
       "    </tr>\n",
       "    <tr>\n",
       "      <th>4</th>\n",
       "      <td>Helen Hunt Jackson</td>\n",
       "      <td>But in still lakes and rivers, cool, content,</td>\n",
       "    </tr>\n",
       "  </tbody>\n",
       "</table>\n",
       "</div>"
      ],
      "text/plain": [
       "                    author                                               text\n",
       "0   Helen Hunt Jackson      Some flowers are withered and some joys have d...\n",
       "1   Helen Hunt Jackson            The garden reeks with an East Indian scent \n",
       "2   Helen Hunt Jackson      From beds where gillyflowers stand weak and sp...\n",
       "3   Helen Hunt Jackson      The white heat pales the skies from side to si...\n",
       "4   Helen Hunt Jackson         But in still lakes and rivers, cool, content, "
      ]
     },
     "execution_count": 62,
     "metadata": {},
     "output_type": "execute_result"
    }
   ],
   "source": [
    "various_sonnets.head()"
   ]
  },
  {
   "cell_type": "code",
   "execution_count": 63,
   "metadata": {
    "collapsed": true
   },
   "outputs": [],
   "source": [
    "various_sonnets.to_csv('clean_var_sonnets.csv')"
   ]
  },
  {
   "cell_type": "code",
   "execution_count": null,
   "metadata": {
    "collapsed": true
   },
   "outputs": [],
   "source": []
  }
 ],
 "metadata": {
  "kernelspec": {
   "display_name": "Python 2",
   "language": "python",
   "name": "python2"
  },
  "language_info": {
   "codemirror_mode": {
    "name": "ipython",
    "version": 2
   },
   "file_extension": ".py",
   "mimetype": "text/x-python",
   "name": "python",
   "nbconvert_exporter": "python",
   "pygments_lexer": "ipython2",
   "version": "2.7.11"
  }
 },
 "nbformat": 4,
 "nbformat_minor": 0
}
